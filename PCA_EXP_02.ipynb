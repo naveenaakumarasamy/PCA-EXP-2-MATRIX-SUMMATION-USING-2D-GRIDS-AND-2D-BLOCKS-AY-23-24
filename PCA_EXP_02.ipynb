{
  "nbformat": 4,
  "nbformat_minor": 0,
  "metadata": {
    "colab": {
      "provenance": [],
      "gpuType": "T4"
    },
    "kernelspec": {
      "name": "python3",
      "display_name": "Python 3"
    },
    "language_info": {
      "name": "python"
    },
    "accelerator": "GPU"
  },
  "cells": [
    {
      "cell_type": "code",
      "execution_count": 9,
      "metadata": {
        "colab": {
          "base_uri": "https://localhost:8080/"
        },
        "id": "5z_NrvTg9Dqa",
        "outputId": "2f7245ed-127e-4aac-be3a-0ee9a0278a98"
      },
      "outputs": [
        {
          "output_type": "stream",
          "name": "stdout",
          "text": [
            "Requirement already satisfied: nvcc4jupyter in /usr/local/lib/python3.11/dist-packages (1.2.1)\n"
          ]
        }
      ],
      "source": [
        "pip install nvcc4jupyter"
      ]
    },
    {
      "cell_type": "code",
      "source": [
        "%load_ext nvcc4jupyter"
      ],
      "metadata": {
        "colab": {
          "base_uri": "https://localhost:8080/"
        },
        "id": "am-A28KZ-pG0",
        "outputId": "77002b42-97d2-4f09-bdc9-c233f9030461"
      },
      "execution_count": 10,
      "outputs": [
        {
          "output_type": "stream",
          "name": "stdout",
          "text": [
            "The nvcc4jupyter extension is already loaded. To reload it, use:\n",
            "  %reload_ext nvcc4jupyter\n"
          ]
        }
      ]
    },
    {
      "cell_type": "code",
      "source": [
        "%%cuda\n",
        "#include <stdio.h>\n",
        "\n",
        "__global__ void hello(){\n",
        "    printf(\"Hello from block: %u, thread: %u\\n\", blockIdx.x, threadIdx.x);\n",
        "}\n",
        "\n",
        "int main(){\n",
        "    hello<<<2, 2>>>();\n",
        "    cudaDeviceSynchronize();\n",
        "}"
      ],
      "metadata": {
        "colab": {
          "base_uri": "https://localhost:8080/"
        },
        "id": "OWCb45fL_FjP",
        "outputId": "e8175e08-4879-4617-b5fb-44b1f36762db"
      },
      "execution_count": 11,
      "outputs": [
        {
          "output_type": "stream",
          "name": "stdout",
          "text": [
            "\n"
          ]
        }
      ]
    },
    {
      "cell_type": "code",
      "source": [
        "%%cuda\n",
        "#include <cuda_runtime.h>\n",
        "#include <stdio.h>\n",
        "\n",
        "#include <sys/time.h>\n",
        "\n",
        "#ifndef _COMMON_H\n",
        "#define _COMMON_H\n",
        "\n",
        "#define CHECK(call)                                                            \\\n",
        "{                                                                              \\\n",
        "    const cudaError_t error = call;                                            \\\n",
        "    if (error != cudaSuccess)                                                  \\\n",
        "    {                                                                          \\\n",
        "        fprintf(stderr, \"Error: %s:%d, \", __FILE__, __LINE__);                 \\\n",
        "        fprintf(stderr, \"code: %d, reason: %s\\n\", error,                       \\\n",
        "                cudaGetErrorString(error));                                    \\\n",
        "        exit(1);                                                               \\\n",
        "    }                                                                          \\\n",
        "}\n",
        "\n",
        "#define CHECK_CUBLAS(call)                                                     \\\n",
        "{                                                                              \\\n",
        "    cublasStatus_t err;                                                        \\\n",
        "    if ((err = (call)) != CUBLAS_STATUS_SUCCESS)                               \\\n",
        "    {                                                                          \\\n",
        "        fprintf(stderr, \"Got CUBLAS error %d at %s:%d\\n\", err, __FILE__,       \\\n",
        "                __LINE__);                                                     \\\n",
        "        exit(1);                                                               \\\n",
        "    }                                                                          \\\n",
        "}\n",
        "\n",
        "#define CHECK_CURAND(call)                                                     \\\n",
        "{                                                                              \\\n",
        "    curandStatus_t err;                                                        \\\n",
        "    if ((err = (call)) != CURAND_STATUS_SUCCESS)                               \\\n",
        "    {                                                                          \\\n",
        "        fprintf(stderr, \"Got CURAND error %d at %s:%d\\n\", err, __FILE__,       \\\n",
        "                __LINE__);                                                     \\\n",
        "        exit(1);                                                               \\\n",
        "    }                                                                          \\\n",
        "}\n",
        "\n",
        "#define CHECK_CUFFT(call)                                                      \\\n",
        "{                                                                              \\\n",
        "    cufftResult err;                                                           \\\n",
        "    if ( (err = (call)) != CUFFT_SUCCESS)                                      \\\n",
        "    {                                                                          \\\n",
        "        fprintf(stderr, \"Got CUFFT error %d at %s:%d\\n\", err, _FILE_,        \\\n",
        "                _LINE_);                                                     \\\n",
        "        exit(1);                                                               \\\n",
        "    }                                                                          \\\n",
        "}\n",
        "\n",
        "#define CHECK_CUSPARSE(call)                                                   \\\n",
        "{                                                                              \\\n",
        "    cusparseStatus_t err;                                                      \\\n",
        "    if ((err = (call)) != CUSPARSE_STATUS_SUCCESS)                             \\\n",
        "    {                                                                          \\\n",
        "        fprintf(stderr, \"Got error %d at %s:%d\\n\", err, _FILE, __LINE_);   \\\n",
        "        cudaError_t cuda_err = cudaGetLastError();                             \\\n",
        "        if (cuda_err != cudaSuccess)                                           \\\n",
        "        {                                                                      \\\n",
        "            fprintf(stderr, \"  CUDA error \\\"%s\\\" also detected\\n\",             \\\n",
        "                    cudaGetErrorString(cuda_err));                             \\\n",
        "        }                                                                      \\\n",
        "        exit(1);                                                               \\\n",
        "    }                                                                          \\\n",
        "}\n",
        "\n",
        "inline double seconds()\n",
        "{\n",
        "    struct timeval tp;\n",
        "    struct timezone tzp;\n",
        "    int i = gettimeofday(&tp, &tzp);\n",
        "    return ((double)tp.tv_sec + (double)tp.tv_usec * 1.e-6);\n",
        "}\n",
        "\n",
        "#endif // _COMMON_H\n",
        "\n",
        "void initialData(float *ip, const int size)\n",
        "{\n",
        "    int i;\n",
        "\n",
        "    for(i = 0; i < size; i++)\n",
        "    {\n",
        "        ip[i] = (float)( rand() & 0xFF ) / 10.0f;\n",
        "    }\n",
        "}\n",
        "\n",
        "void sumMatrixOnHost(float *A, float *B, float *C, const int nx, const int ny)\n",
        "{\n",
        "    float *ia = A;\n",
        "    float *ib = B;\n",
        "    float *ic = C;\n",
        "\n",
        "    for (int iy = 0; iy < ny; iy++)\n",
        "    {\n",
        "        for (int ix = 0; ix < nx; ix++)\n",
        "        {\n",
        "            ic[ix] = ia[ix] + ib[ix];\n",
        "        }\n",
        "\n",
        "        ia += nx;\n",
        "        ib += nx;\n",
        "        ic += nx;\n",
        "    }\n",
        "\n",
        "    return;\n",
        "}\n",
        "\n",
        "void checkResult(float *hostRef, float *gpuRef, const int N) {\n",
        "double epsilon = 1.0E-8;\n",
        "int match = 1;\n",
        "for (int i = 0; i < N; i++) {\n",
        "if (abs(hostRef[i] - gpuRef[i]) > epsilon) {\n",
        "match = 0;\n",
        "printf(\"Arrays do not match!\\n\");\n",
        "printf(\"host %5.2f gpu %5.2f at current %d\\n\",\n",
        "hostRef[i], gpuRef[i], i);\n",
        "break;\n",
        "}\n",
        "}\n",
        "if (match) printf(\"Arrays match.\\n\\n\");\n",
        "return;\n",
        "}\n",
        "// grid 2D block 2D\n",
        "__global__ void sumMatrixOnGPU2D(float *A, float *B, float *C, int NX, int NY)\n",
        "{\n",
        "    unsigned int ix = blockIdx.x * blockDim.x + threadIdx.x;\n",
        "    unsigned int iy = blockIdx.y * blockDim.y + threadIdx.y;\n",
        "    unsigned int idx = iy * NX + ix;\n",
        "\n",
        "    if (ix < NX && iy < NY)\n",
        "    {\n",
        "        C[idx] = A[idx] + B[idx];\n",
        "    }\n",
        "}\n",
        "double cpuSecond() {\n",
        "struct timeval tp;\n",
        "gettimeofday(&tp,NULL);\n",
        "return ((double)tp.tv_sec + (double)tp.tv_usec*1.e-6);\n",
        "}\n",
        "\n",
        "int main(int argc, char **argv) {\n",
        "printf(\"%s Starting...\\n\", argv[0]);\n",
        "// set up device\n",
        "int dev = 0;\n",
        "cudaDeviceProp deviceProp;\n",
        "CHECK(cudaGetDeviceProperties(&deviceProp, dev));\n",
        "printf(\"Using Device %d: %s\\n\", dev, deviceProp.name);\n",
        "CHECK(cudaSetDevice(dev));\n",
        "// set up data size of matrix\n",
        "int nx = 1<<14;\n",
        "int ny = 1<<14;\n",
        "int nxy = nx*ny;\n",
        "int nBytes = nxy * sizeof(float);\n",
        "printf(\"Matrix size: nx %d ny %d\\n\",nx, ny);\n",
        "// malloc host memory\n",
        "float *h_A, *h_B, *hostRef, *gpuRef;\n",
        "h_A = (float *)malloc(nBytes);\n",
        "h_B = (float *)malloc(nBytes);\n",
        "hostRef = (float *)malloc(nBytes);\n",
        "gpuRef = (float *)malloc(nBytes);\n",
        "// initialize data at host side\n",
        "double iStart = cpuSecond();\n",
        "initialData (h_A, nxy);\n",
        "initialData (h_B, nxy);\n",
        "double iElaps = cpuSecond() - iStart;\n",
        "memset(hostRef, 0, nBytes);\n",
        "memset(gpuRef, 0, nBytes);\n",
        "// add matrix at host side for result checks\n",
        "iStart = cpuSecond();\n",
        "sumMatrixOnHost (h_A, h_B, hostRef, nx,ny);\n",
        "iElaps = cpuSecond() - iStart;\n",
        " printf(\"sumMatrixOnHost elapsed %f sec\\n\", iElaps);\n",
        "// malloc device global memory\n",
        "float *d_MatA, *d_MatB, *d_MatC;\n",
        "cudaMalloc((void **)&d_MatA, nBytes);\n",
        "cudaMalloc((void **)&d_MatB, nBytes);\n",
        "cudaMalloc((void **)&d_MatC, nBytes);\n",
        "// transfer data from host to device\n",
        "cudaMemcpy(d_MatA, h_A, nBytes, cudaMemcpyHostToDevice);\n",
        "cudaMemcpy(d_MatB, h_B, nBytes, cudaMemcpyHostToDevice);\n",
        "                                  // invoke kernel at host side\n",
        "int dimx = 32;\n",
        "int dimy = 32;\n",
        "dim3 block(dimx, dimy);\n",
        "dim3 grid((nx+block.x-1)/block.x, (ny+block.y-1)/block.y);\n",
        "iStart = cpuSecond();\n",
        "sumMatrixOnGPU2D <<< grid, block >>>(d_MatA, d_MatB, d_MatC, nx, ny);\n",
        "cudaDeviceSynchronize();\n",
        "iElaps = cpuSecond() - iStart;\n",
        "printf(\"sumMatrixOnGPU2D <<<(%d,%d), (%d,%d)>>> elapsed %f sec\\n\", grid.x,\n",
        "grid.y, block.x, block.y, iElaps);\n",
        "// copy kernel result back to host side\n",
        "cudaMemcpy(gpuRef, d_MatC, nBytes, cudaMemcpyDeviceToHost);\n",
        "// check device results\n",
        "checkResult(hostRef, gpuRef, nxy);\n",
        "// free device global memory\n",
        "cudaFree(d_MatA);\n",
        "cudaFree(d_MatB);\n",
        "cudaFree(d_MatC);\n",
        "// free host memory\n",
        "free(h_A);\n",
        "free(h_B);\n",
        "free(hostRef);\n",
        "free(gpuRef);\n",
        "// reset device\n",
        "cudaDeviceReset();\n",
        "return (0);\n",
        "}"
      ],
      "metadata": {
        "colab": {
          "base_uri": "https://localhost:8080/"
        },
        "id": "ZUhuiQdACc0C",
        "outputId": "b6b2b896-35d1-4b3a-b583-463853e3fd7b"
      },
      "execution_count": 15,
      "outputs": [
        {
          "output_type": "stream",
          "name": "stdout",
          "text": [
            "/tmp/tmpzuk4vtiw/8ed7fc3f-d9a2-4a0c-a2e8-a46a089f642d/cuda_exec.out Starting...\n",
            "Using Device 0: Tesla T4\n",
            "Matrix size: nx 16384 ny 16384\n",
            "sumMatrixOnHost elapsed 0.823318 sec\n",
            "sumMatrixOnGPU2D <<<(512,512), (32,32)>>> elapsed 0.007919 sec\n",
            "Arrays do not match!\n",
            "host 22.50 gpu  0.00 at current 0\n",
            "\n"
          ]
        }
      ]
    },
    {
      "cell_type": "code",
      "source": [],
      "metadata": {
        "id": "x0JZdCCRCz5M"
      },
      "execution_count": null,
      "outputs": []
    }
  ]
}